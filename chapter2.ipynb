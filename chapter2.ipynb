{
 "cells": [
  {
   "cell_type": "code",
   "execution_count": 28,
   "id": "c5227f1e-ec3a-4a7f-94e7-be8419281408",
   "metadata": {},
   "outputs": [],
   "source": [
    "import datetime\n",
    "\n",
    "import matplotlib.pyplot as plt\n",
    "import numpy as np\n",
    "import pandas as pd\n",
    "import prophet\n",
    "import seaborn as sns\n",
    "from scipy import stats\n",
    "from statsmodels.tsa.seasonal import seasonal_decompose"
   ]
  },
  {
   "cell_type": "code",
   "execution_count": 10,
   "id": "d919a790-687a-4ce8-a72c-99799275b045",
   "metadata": {},
   "outputs": [
    {
     "data": {
      "text/plain": [
       "331"
      ]
     },
     "execution_count": 10,
     "metadata": {},
     "output_type": "execute_result"
    }
   ],
   "source": [
    "pollution = pd.read_csv(\n",
    "    \"https://raw.githubusercontent.com/owid/owid-datasets/master/datasets/\"\n",
    "    \"Air%20pollution%20by%20city%20-%20Fouquet%20and%20DPCC%20(2011)/Air%20pollution%20by%20city%20-%20Fouquet%20and%20DPCC%20(2011).csv\"\n",
    ")\n",
    "len(pollution)"
   ]
  },
  {
   "cell_type": "code",
   "execution_count": 11,
   "id": "b4ca4da7-d399-4000-bbce-1b9404841a44",
   "metadata": {},
   "outputs": [
    {
     "data": {
      "text/plain": [
       "Index(['Entity', 'Year', 'Smoke (Fouquet and DPCC (2011))',\n",
       "       'Suspended Particulate Matter (SPM) (Fouquet and DPCC (2011))'],\n",
       "      dtype='object')"
      ]
     },
     "execution_count": 11,
     "metadata": {},
     "output_type": "execute_result"
    }
   ],
   "source": [
    "pollution.columns"
   ]
  },
  {
   "cell_type": "code",
   "execution_count": 12,
   "id": "8679c735-ab1a-4355-83ca-ddf4b13fd1b4",
   "metadata": {},
   "outputs": [
    {
     "data": {
      "text/plain": [
       "City      object\n",
       "Year       int64\n",
       "Smoke    float64\n",
       "SPM      float64\n",
       "dtype: object"
      ]
     },
     "execution_count": 12,
     "metadata": {},
     "output_type": "execute_result"
    }
   ],
   "source": [
    "pollution = pollution.rename(\n",
    "    columns={\n",
    "        \"Suspended Particulate Matter (SPM) (Fouquet and DPCC (2011))\": \"SPM\",\n",
    "        \"Smoke (Fouquet and DPCC (2011))\": \"Smoke\",\n",
    "        \"Entity\": \"City\",\n",
    "    }\n",
    ")\n",
    "pollution.dtypes"
   ]
  },
  {
   "cell_type": "code",
   "execution_count": 13,
   "id": "f8d2d3eb-ee70-42b7-b7cf-775462af8827",
   "metadata": {},
   "outputs": [
    {
     "data": {
      "text/plain": [
       "array(['Delhi', 'London'], dtype=object)"
      ]
     },
     "execution_count": 13,
     "metadata": {},
     "output_type": "execute_result"
    }
   ],
   "source": [
    "pollution.City.unique()"
   ]
  },
  {
   "cell_type": "code",
   "execution_count": 14,
   "id": "a11726ff-c873-4874-a382-3dcf90984391",
   "metadata": {},
   "outputs": [
    {
     "data": {
      "text/plain": [
       "(1700, 2016)"
      ]
     },
     "execution_count": 14,
     "metadata": {},
     "output_type": "execute_result"
    }
   ],
   "source": [
    "pollution.Year.min(), pollution.Year.max()"
   ]
  },
  {
   "cell_type": "code",
   "execution_count": 15,
   "id": "ce40c7fc-9091-4547-b4cd-e4aed887dd9e",
   "metadata": {},
   "outputs": [
    {
     "data": {
      "text/plain": [
       "City             object\n",
       "Year     datetime64[ns]\n",
       "Smoke           float64\n",
       "SPM             float64\n",
       "dtype: object"
      ]
     },
     "execution_count": 15,
     "metadata": {},
     "output_type": "execute_result"
    }
   ],
   "source": [
    "pollution[\"Year\"] = pollution[\"Year\"].apply(\n",
    "    lambda x: datetime.datetime.strptime(str(x), \"%Y\")\n",
    ")\n",
    "pollution.dtypes"
   ]
  },
  {
   "cell_type": "code",
   "execution_count": 16,
   "id": "8db3c43a-3178-4889-8af9-08ccd6448730",
   "metadata": {},
   "outputs": [
    {
     "data": {
      "text/plain": [
       "City     0.000000\n",
       "Year     0.000000\n",
       "Smoke    0.090634\n",
       "SPM      0.000000\n",
       "dtype: float64"
      ]
     },
     "execution_count": 16,
     "metadata": {},
     "output_type": "execute_result"
    }
   ],
   "source": [
    "pollution.isnull().mean()"
   ]
  },
  {
   "cell_type": "code",
   "execution_count": 17,
   "id": "1e8a3964-3a04-42d1-860b-3daab95a7b9d",
   "metadata": {},
   "outputs": [
    {
     "data": {
      "text/html": [
       "<div>\n",
       "<style scoped>\n",
       "    .dataframe tbody tr th:only-of-type {\n",
       "        vertical-align: middle;\n",
       "    }\n",
       "\n",
       "    .dataframe tbody tr th {\n",
       "        vertical-align: top;\n",
       "    }\n",
       "\n",
       "    .dataframe thead th {\n",
       "        text-align: right;\n",
       "    }\n",
       "</style>\n",
       "<table border=\"1\" class=\"dataframe\">\n",
       "  <thead>\n",
       "    <tr style=\"text-align: right;\">\n",
       "      <th></th>\n",
       "      <th>Smoke</th>\n",
       "      <th>SPM</th>\n",
       "    </tr>\n",
       "  </thead>\n",
       "  <tbody>\n",
       "    <tr>\n",
       "      <th>count</th>\n",
       "      <td>301.000000</td>\n",
       "      <td>331.000000</td>\n",
       "    </tr>\n",
       "    <tr>\n",
       "      <th>mean</th>\n",
       "      <td>210.296440</td>\n",
       "      <td>365.970050</td>\n",
       "    </tr>\n",
       "    <tr>\n",
       "      <th>std</th>\n",
       "      <td>88.543288</td>\n",
       "      <td>172.512674</td>\n",
       "    </tr>\n",
       "    <tr>\n",
       "      <th>min</th>\n",
       "      <td>13.750000</td>\n",
       "      <td>15.000000</td>\n",
       "    </tr>\n",
       "    <tr>\n",
       "      <th>25%</th>\n",
       "      <td>168.571429</td>\n",
       "      <td>288.474026</td>\n",
       "    </tr>\n",
       "    <tr>\n",
       "      <th>50%</th>\n",
       "      <td>208.214286</td>\n",
       "      <td>375.324675</td>\n",
       "    </tr>\n",
       "    <tr>\n",
       "      <th>75%</th>\n",
       "      <td>291.818182</td>\n",
       "      <td>512.609209</td>\n",
       "    </tr>\n",
       "    <tr>\n",
       "      <th>max</th>\n",
       "      <td>342.857143</td>\n",
       "      <td>623.376623</td>\n",
       "    </tr>\n",
       "  </tbody>\n",
       "</table>\n",
       "</div>"
      ],
      "text/plain": [
       "            Smoke         SPM\n",
       "count  301.000000  331.000000\n",
       "mean   210.296440  365.970050\n",
       "std     88.543288  172.512674\n",
       "min     13.750000   15.000000\n",
       "25%    168.571429  288.474026\n",
       "50%    208.214286  375.324675\n",
       "75%    291.818182  512.609209\n",
       "max    342.857143  623.376623"
      ]
     },
     "execution_count": 17,
     "metadata": {},
     "output_type": "execute_result"
    }
   ],
   "source": [
    "pollution.describe()"
   ]
  },
  {
   "cell_type": "code",
   "execution_count": 18,
   "id": "d92d3770-5516-46a5-8374-bb08dd439adb",
   "metadata": {},
   "outputs": [
    {
     "data": {
      "text/plain": [
       "Text(0, 0.5, 'Frequency')"
      ]
     },
     "execution_count": 18,
     "metadata": {},
     "output_type": "execute_result"
    },
    {
     "data": {
      "image/png": "[encoded data removed]",
      "text/plain": [
       "<Figure size 432x288 with 1 Axes>"
      ]
     },
     "metadata": {
      "needs_background": "light"
     },
     "output_type": "display_data"
    }
   ],
   "source": [
    "plt.grid(axis=\"y\", alpha=0.5)\n",
    "n, bins, patches = plt.hist(x=pollution[\"SPM\"], bins=\"auto\", alpha=0.7, rwidth=0.85)\n",
    "\n",
    "plt.xlabel(\"SPM\")\n",
    "plt.ylabel(\"Frequency\")"
   ]
  },
  {
   "cell_type": "code",
   "execution_count": 19,
   "id": "0d16b8fa-d896-4ed1-8537-8310f081f4f3",
   "metadata": {},
   "outputs": [
    {
     "data": {
      "text/plain": [
       "PearsonRResult(statistic=0.9999999999999999, pvalue=0.0)"
      ]
     },
     "execution_count": 19,
     "metadata": {},
     "output_type": "execute_result"
    }
   ],
   "source": [
    "def ignore_nans(a, b):\n",
    "    index = ~a.isnull() & ~b.isnull()\n",
    "    return a[index], b[index]\n",
    "\n",
    "\n",
    "stats.pearsonr(*ignore_nans(pollution[\"Smoke\"], pollution[\"SPM\"]))"
   ]
  },
  {
   "cell_type": "code",
   "execution_count": 20,
   "id": "f345addc-2bc8-46a4-8c6a-b20bfbb5b382",
   "metadata": {},
   "outputs": [
    {
     "data": {
      "text/plain": [
       "Text(333.4714285714286, 0.5, 'SPM')"
      ]
     },
     "execution_count": 20,
     "metadata": {},
     "output_type": "execute_result"
    },
    {
     "data": {
      "text/plain": [
       "<Figure size 864x432 with 0 Axes>"
      ]
     },
     "metadata": {},
     "output_type": "display_data"
    },
    {
     "data": {
      "image/png": "[encoded data removed]",
      "text/plain": [
       "<Figure size 432x432 with 3 Axes>"
      ]
     },
     "metadata": {
      "needs_background": "light"
     },
     "output_type": "display_data"
    }
   ],
   "source": [
    "plt.figure(figsize=(12, 6))\n",
    "sns.jointplot(x=\"Smoke\", y=\"SPM\", edgecolor=\"white\", data=pollution)\n",
    "plt.xlabel(\"Smoke\")\n",
    "plt.ylabel(\"SPM\")"
   ]
  },
  {
   "cell_type": "code",
   "execution_count": 21,
   "id": "9c492073-d0f9-4d86-ab06-50545c643a8c",
   "metadata": {},
   "outputs": [
    {
     "data": {
      "text/plain": [
       "Text(0, 0.5, 'SPM')"
      ]
     },
     "execution_count": 21,
     "metadata": {},
     "output_type": "execute_result"
    },
    {
     "data": {
      "image/png": "[encoded data removed]",
      "text/plain": [
       "<Figure size 864x432 with 1 Axes>"
      ]
     },
     "metadata": {
      "needs_background": "light"
     },
     "output_type": "display_data"
    }
   ],
   "source": [
    "pollution = pollution.pivot(\"Year\", \"City\", \"SPM\")\n",
    "plt.figure(figsize=(12, 6))\n",
    "sns.lineplot(data=pollution)\n",
    "plt.ylabel(\"SPM\")"
   ]
  },
  {
   "cell_type": "code",
   "execution_count": null,
   "id": "395297f7-7226-4f7c-9892-f30336850ff5",
   "metadata": {
    "jupyter": {
     "source_hidden": true
    },
    "tags": []
   },
   "outputs": [],
   "source": []
  }
 ],
 "metadata": {
  "kernelspec": {
   "display_name": "Python 3 (ipykernel)",
   "language": "python",
   "name": "python3"
  },
  "language_info": {
   "codemirror_mode": {
    "name": "ipython",
    "version": 3
   },
   "file_extension": ".py",
   "mimetype": "text/x-python",
   "name": "python",
   "nbconvert_exporter": "python",
   "pygments_lexer": "ipython3",
   "version": "3.8.5"
  }
 },
 "nbformat": 4,
 "nbformat_minor": 5
}
